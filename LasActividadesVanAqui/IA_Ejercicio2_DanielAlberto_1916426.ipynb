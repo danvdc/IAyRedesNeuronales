{
  "nbformat": 4,
  "nbformat_minor": 0,
  "metadata": {
    "colab": {
      "name": "IA_Ejercicio2_DanielAlberto_1916426.ipynb",
      "provenance": [],
      "collapsed_sections": []
    },
    "kernelspec": {
      "name": "python3",
      "display_name": "Python 3"
    },
    "language_info": {
      "name": "python"
    }
  },
  "cells": [
    {
      "cell_type": "markdown",
      "source": [
        "Actividad 2: Ejercicios Basicos en Python\n",
        "\n",
        "Daniel Alberto Acosta Banda 1916426\n",
        "\n",
        "Jueves N1"
      ],
      "metadata": {
        "id": "5N935whStF_H"
      }
    },
    {
      "cell_type": "code",
      "source": [
        "#EJERCICIO 1\n",
        "print(\"**Hola, mi nombre es Python, cual es tu nombre?**\") \n",
        "nombre = input() #Le pedimos al usuario que ingrese su nombre, se guarda en la variable nombre\n",
        "\n",
        "if (nombre == \"Juan\") or (nombre == \"Pedro\") or (nombre == \"Ana\"): #Si la variable tiene el nombre \"Juan\", \"Pedro\" o \"Ana\" no imprimira su nombre\n",
        "  print(\"**No fue un gusto conocerte, adios.**\")\n",
        "\n",
        "else: #Para los demas caso, imprimira su nombre                                                                                                                                                              \n",
        "  print(\"**Un gusto conocerte, {}**\".format(nombre))                                                                                                                                                                                                                                                                                                                                                                                           "
      ],
      "metadata": {
        "colab": {
          "base_uri": "https://localhost:8080/"
        },
        "outputId": "cddb2818-d7fe-4272-8380-f0096e1bcc6b",
        "id": "6E-8FnAa9NC5"
      },
      "execution_count": 10,
      "outputs": [
        {
          "output_type": "stream",
          "name": "stdout",
          "text": [
            "**Hola, mi nombre es Python, cual es tu nombre?**\n",
            "Juan\n",
            "**No fue un gusto conocerte, adios.**\n"
          ]
        }
      ]
    },
    {
      "cell_type": "code",
      "source": [
        "#EJERCICIO 2\n",
        "#Sistema para que el usuario pueda crear su propia lista\n",
        "lista = [] #Lista vacia, el usuario añadira los elementos\n",
        "loop = 0 #Variable para controlar el loop\n",
        "existelista = 0 #Variable que nos dira si el usuario añadio elementos a la lista\n",
        "\n",
        "while loop == 0: #Mientras loop sea igual a 0, se mantendra\n",
        "  print(\"** Añadir un nuevo elemento? SI/NO **\")\n",
        "  Respuesta = input() #Preguntamos si quiere añadir un nuevo elemento, y guardamos su repuesta en la variable Respuesta\n",
        "  \n",
        "  if Respuesta == \"SI\": #Si la variable contiene la string SI, correra esta seccion de codigo\n",
        "    print(\"** Escribe el nuevo elemento: **\")\n",
        "    nelemento = input() #El usuario podra añadir un nuevo elemento a la lista, primero se guardara la string en la variable nelemento\n",
        "    lista.append(nelemento) #Despues la string guardada en la variable se añadira a la lista\n",
        "    existelista += 1 #Se aumentara la variable por 1, con ello el codigo podra saber que se ha añadida al menos un elemento a la lista\n",
        "   \n",
        "  elif Respuesta == \"NO\": #Si contiene la string NO, se cambia la variable de loop a 1, acabando el ciclo\n",
        "    loop = loop + 1\n",
        "\n",
        "  else: #Si la variable contiene otra string diferente a \"SI\" o \"NO\", se le dara una advertencia\n",
        "    print(\"**** Las unicas repuestas validas son 'SI' y 'NO' ****\")\n",
        "  \n",
        "\n",
        "if existelista > 0: #En caso de que la variable existelista sea mayor a 0, y por ende, que tenga al menos un elemento. procederemos a imprimir\n",
        "    print(\"**El ultimo elemento de la lista es:**\")\n",
        "    print(\">\", lista[-1]) #imprime el ultimo elemento de la lista\n",
        "    print(\"**La lista en reversa:**\")\n",
        "    print(\">\", lista[::-1]) #imprime la lista con un orden reverso de elementos\n",
        "\n",
        "else: #en caso de que la variable existelista sea 0 o menos, se le advertira al usuario de que no añadio ningun elemento\n",
        "    print(\"**No se otorgo ningun elemento, no hay lista**\")\n",
        "\n",
        "          "
      ],
      "metadata": {
        "id": "DnNukihCSF_8",
        "colab": {
          "base_uri": "https://localhost:8080/"
        },
        "outputId": "3db5bb30-aaaa-4701-8bae-0a4cdb588036"
      },
      "execution_count": 16,
      "outputs": [
        {
          "output_type": "stream",
          "name": "stdout",
          "text": [
            "** Añadir un nuevo elemento? SI/NO **\n",
            "SI\n",
            "** Escribe el nuevo elemento: **\n",
            "primer elemento\n",
            "** Añadir un nuevo elemento? SI/NO **\n",
            "SI\n",
            "** Escribe el nuevo elemento: **\n",
            "segundo elemento\n",
            "** Añadir un nuevo elemento? SI/NO **\n",
            "SI\n",
            "** Escribe el nuevo elemento: **\n",
            "ultimo elemento\n",
            "** Añadir un nuevo elemento? SI/NO **\n",
            "NO\n",
            "**El ultimo elemento de la lista es:**\n",
            "> ultimo elemento\n",
            "**La lista en reversa:**\n",
            "> ['ultimo elemento', 'segundo elemento', 'primer elemento']\n"
          ]
        }
      ]
    },
    {
      "cell_type": "code",
      "source": [
        "#EJERCICIO 3\n",
        "#Sistema para que el usuario pueda crear su propia lista\n",
        "lista = [] #Lista vacia\n",
        "loop = 0 #Variable que controlar el loop\n",
        "existelista = 0 #Variable que indica si hay elementos en la lista\n",
        "\n",
        "while loop == 0: #Habra un ciclo si loop = 0\n",
        "  print(\"** Añadir un nuevo elemento? SI/NO **\")\n",
        "  Respuesta = input() #El usuario otorga un nuevo elemento que guardamos en la variable Respuesta\n",
        "  \n",
        "  if Respuesta == \"SI\": #Si la variable contiene la string SI, correra esto\n",
        "    print(\"** Escribe el nuevo elemento: **\")\n",
        "    nelemento = input() #El usuario otorga un elemento a la lista, se guardara en la variable nelemento\n",
        "    lista.append(nelemento) #Despues la string guardada en la variable nelemento se añadira a la lista\n",
        "    existelista += 1 #Se aumentara la variable por 1, con ello el codigo podra saber que se ha añadida al menos un elemento a la lista\n",
        "   \n",
        "  elif Respuesta == \"NO\": #Si contiene la string NO, se cambia la variable de loop a 1, acabando el ciclo\n",
        "    loop = loop + 1\n",
        "\n",
        "  else: #Si la variable contiene otra string diferente a \"SI\" o \"NO\", se le dara una advertencia\n",
        "    print(\"**** Las unicas repuestas validas son 'SI' y 'NO' ****\") \n",
        "\n",
        "\n",
        "\n",
        "if existelista > 0: #Si hay elementos a la lista, procederemos\n",
        "  elem = 0 #creamos un elemento para controlar el loop de print\n",
        "  print(\"*****************\")\n",
        "  while elem != len(lista): #mientras la variable elem sea menor a la cantidad de elementos que existen en la lista, se mantendra este ciclo \n",
        "      lenlet = len(lista[elem]) #checa los caracteres de un elemento del string\n",
        "      print(\"**\", lista[elem], \" \"*(10-lenlet), \"**\") #imprime estrellas para el marco, el elemento de la lista, y espacios para mantener el cuadro\n",
        "      elem = elem + 1 #Se le añadira 1 a la variable elem\n",
        "  print(\"*****************\")\n",
        "\n",
        "else: #en caso de que la variable existelista sea 0 o menos, se le advertira al usuario de que no añadio ningun elemento\n",
        "  print(\"**No se otorgo ningun elemento, no hay lista**\")\n",
        "\n",
        "          "
      ],
      "metadata": {
        "colab": {
          "base_uri": "https://localhost:8080/"
        },
        "outputId": "f1d3aefc-133e-498b-8f2e-ebe06b0c8f5f",
        "id": "kj37RyOdryUy"
      },
      "execution_count": 20,
      "outputs": [
        {
          "output_type": "stream",
          "name": "stdout",
          "text": [
            "** Añadir un nuevo elemento? SI/NO **\n",
            "SI\n",
            "** Escribe el nuevo elemento: **\n",
            "There's a\n",
            "** Añadir un nuevo elemento? SI/NO **\n",
            "SI\n",
            "** Escribe el nuevo elemento: **\n",
            "Starman\n",
            "** Añadir un nuevo elemento? SI/NO **\n",
            "SI\n",
            "** Escribe el nuevo elemento: **\n",
            "waiting in\n",
            "** Añadir un nuevo elemento? SI/NO **\n",
            "SI\n",
            "** Escribe el nuevo elemento: **\n",
            "the sky.\n",
            "** Añadir un nuevo elemento? SI/NO **\n",
            "NO\n",
            "*****************\n",
            "** There's a   **\n",
            "** Starman     **\n",
            "** waiting in  **\n",
            "** the sky.    **\n",
            "*****************\n"
          ]
        }
      ]
    }
  ]
}